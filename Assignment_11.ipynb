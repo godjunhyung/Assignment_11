def normalize(feature):

    # ++++++++++++++++++++++++++++++++++++++++++++++++++
    # complete the blanks
    #

    feature_normalize = (feature - np.mean(feature, axis = 0)) / np.std(feature, axis = 0)


    #
    # ++++++++++++++++++++++++++++++++++++++++++++++++++
    
    return feature_normalize
